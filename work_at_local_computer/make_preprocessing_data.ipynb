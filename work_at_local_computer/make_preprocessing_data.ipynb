{
 "cells": [
  {
   "cell_type": "markdown",
   "metadata": {
    "id": "raqZsPSfyQgX"
   },
   "source": [
    "# 라이브러리 로드"
   ]
  },
  {
   "cell_type": "code",
   "execution_count": 4,
   "metadata": {
    "ExecuteTime": {
     "end_time": "2022-07-22T07:47:22.200574Z",
     "start_time": "2022-07-22T07:47:22.187574Z"
    },
    "colab": {
     "base_uri": "https://localhost:8080/"
    },
    "executionInfo": {
     "elapsed": 281,
     "status": "ok",
     "timestamp": 1658474992355,
     "user": {
      "displayName": "황한재",
      "userId": "14227530291133837934"
     },
     "user_tz": -540
    },
    "id": "q3pHw1XcypIv",
    "outputId": "b245069b-d399-48be-ca55-64dfa3258383"
   },
   "outputs": [],
   "source": [
    "import pandas as pd\n",
    "import numpy as np\n",
    "from tqdm import tqdm\n"
   ]
  },
  {
   "cell_type": "markdown",
   "metadata": {
    "id": "QBeQyImUyolj"
   },
   "source": [
    "# 데이터 로드"
   ]
  },
  {
   "cell_type": "code",
   "execution_count": 5,
   "metadata": {
    "ExecuteTime": {
     "end_time": "2022-07-22T07:47:31.226393Z",
     "start_time": "2022-07-22T07:47:22.796577Z"
    },
    "executionInfo": {
     "elapsed": 865,
     "status": "ok",
     "timestamp": 1658472579726,
     "user": {
      "displayName": "황한재",
      "userId": "14227530291133837934"
     },
     "user_tz": -540
    },
    "id": "Em2CHuDSilzm"
   },
   "outputs": [],
   "source": [
    "data_url = \"https://raw.githubusercontent.com/bab2min/corpus/master/sentiment/naver_shopping.txt\"\n",
    "\n",
    "data = pd.read_table(data_url, names=['score', \"reviews\"])"
   ]
  },
  {
   "cell_type": "markdown",
   "metadata": {
    "id": "K4Efz3k7zKQv"
   },
   "source": [
    "# 데이터 확인"
   ]
  },
  {
   "cell_type": "code",
   "execution_count": 6,
   "metadata": {
    "ExecuteTime": {
     "end_time": "2022-07-22T07:47:31.316390Z",
     "start_time": "2022-07-22T07:47:31.288391Z"
    },
    "colab": {
     "base_uri": "https://localhost:8080/",
     "height": 206
    },
    "executionInfo": {
     "elapsed": 7,
     "status": "ok",
     "timestamp": 1658472579726,
     "user": {
      "displayName": "황한재",
      "userId": "14227530291133837934"
     },
     "user_tz": -540
    },
    "id": "RDTaL93MyxNS",
    "outputId": "4fec1d2d-323e-4bc1-d8dc-7d842c407715"
   },
   "outputs": [
    {
     "data": {
      "text/html": [
       "<div>\n",
       "<style scoped>\n",
       "    .dataframe tbody tr th:only-of-type {\n",
       "        vertical-align: middle;\n",
       "    }\n",
       "\n",
       "    .dataframe tbody tr th {\n",
       "        vertical-align: top;\n",
       "    }\n",
       "\n",
       "    .dataframe thead th {\n",
       "        text-align: right;\n",
       "    }\n",
       "</style>\n",
       "<table border=\"1\" class=\"dataframe\">\n",
       "  <thead>\n",
       "    <tr style=\"text-align: right;\">\n",
       "      <th></th>\n",
       "      <th>score</th>\n",
       "      <th>reviews</th>\n",
       "    </tr>\n",
       "  </thead>\n",
       "  <tbody>\n",
       "    <tr>\n",
       "      <th>0</th>\n",
       "      <td>5</td>\n",
       "      <td>배공빠르고 굿</td>\n",
       "    </tr>\n",
       "    <tr>\n",
       "      <th>1</th>\n",
       "      <td>2</td>\n",
       "      <td>택배가 엉망이네용 저희집 밑에층에 말도없이 놔두고가고</td>\n",
       "    </tr>\n",
       "    <tr>\n",
       "      <th>2</th>\n",
       "      <td>5</td>\n",
       "      <td>아주좋아요 바지 정말 좋아서2개 더 구매했어요 이가격에 대박입니다. 바느질이 조금 ...</td>\n",
       "    </tr>\n",
       "    <tr>\n",
       "      <th>3</th>\n",
       "      <td>2</td>\n",
       "      <td>선물용으로 빨리 받아서 전달했어야 하는 상품이었는데 머그컵만 와서 당황했습니다. 전...</td>\n",
       "    </tr>\n",
       "    <tr>\n",
       "      <th>4</th>\n",
       "      <td>5</td>\n",
       "      <td>민트색상 예뻐요. 옆 손잡이는 거는 용도로도 사용되네요 ㅎㅎ</td>\n",
       "    </tr>\n",
       "  </tbody>\n",
       "</table>\n",
       "</div>"
      ],
      "text/plain": [
       "   score                                            reviews\n",
       "0      5                                            배공빠르고 굿\n",
       "1      2                      택배가 엉망이네용 저희집 밑에층에 말도없이 놔두고가고\n",
       "2      5  아주좋아요 바지 정말 좋아서2개 더 구매했어요 이가격에 대박입니다. 바느질이 조금 ...\n",
       "3      2  선물용으로 빨리 받아서 전달했어야 하는 상품이었는데 머그컵만 와서 당황했습니다. 전...\n",
       "4      5                  민트색상 예뻐요. 옆 손잡이는 거는 용도로도 사용되네요 ㅎㅎ"
      ]
     },
     "execution_count": 6,
     "metadata": {},
     "output_type": "execute_result"
    }
   ],
   "source": [
    "data.head()"
   ]
  },
  {
   "cell_type": "code",
   "execution_count": 7,
   "metadata": {
    "ExecuteTime": {
     "end_time": "2022-07-22T07:47:31.391392Z",
     "start_time": "2022-07-22T07:47:31.378391Z"
    },
    "colab": {
     "base_uri": "https://localhost:8080/",
     "height": 206
    },
    "executionInfo": {
     "elapsed": 7,
     "status": "ok",
     "timestamp": 1658472579727,
     "user": {
      "displayName": "황한재",
      "userId": "14227530291133837934"
     },
     "user_tz": -540
    },
    "id": "e8SN2tIVzhYy",
    "outputId": "e0b168bb-2c30-455a-f593-421e0d11fc7d"
   },
   "outputs": [
    {
     "data": {
      "text/html": [
       "<div>\n",
       "<style scoped>\n",
       "    .dataframe tbody tr th:only-of-type {\n",
       "        vertical-align: middle;\n",
       "    }\n",
       "\n",
       "    .dataframe tbody tr th {\n",
       "        vertical-align: top;\n",
       "    }\n",
       "\n",
       "    .dataframe thead th {\n",
       "        text-align: right;\n",
       "    }\n",
       "</style>\n",
       "<table border=\"1\" class=\"dataframe\">\n",
       "  <thead>\n",
       "    <tr style=\"text-align: right;\">\n",
       "      <th></th>\n",
       "      <th>score</th>\n",
       "      <th>reviews</th>\n",
       "    </tr>\n",
       "  </thead>\n",
       "  <tbody>\n",
       "    <tr>\n",
       "      <th>199995</th>\n",
       "      <td>2</td>\n",
       "      <td>장마라그런가!!! 달지않아요</td>\n",
       "    </tr>\n",
       "    <tr>\n",
       "      <th>199996</th>\n",
       "      <td>5</td>\n",
       "      <td>다이슨 케이스 구매했어요 다이슨 슈퍼소닉 드라이기 케이스 구매했어요가격 괜찮고 배송...</td>\n",
       "    </tr>\n",
       "    <tr>\n",
       "      <th>199997</th>\n",
       "      <td>5</td>\n",
       "      <td>로드샾에서 사는것보다 세배 저렴하네요 ㅜㅜ 자주이용할께요</td>\n",
       "    </tr>\n",
       "    <tr>\n",
       "      <th>199998</th>\n",
       "      <td>5</td>\n",
       "      <td>넘이쁘고 쎄련되보이네요~</td>\n",
       "    </tr>\n",
       "    <tr>\n",
       "      <th>199999</th>\n",
       "      <td>5</td>\n",
       "      <td>아직 사용해보지도않았고 다른 제품을 써본적이없어서 잘 모르겠지만 ㅎㅎ 배송은 빨랐습니다</td>\n",
       "    </tr>\n",
       "  </tbody>\n",
       "</table>\n",
       "</div>"
      ],
      "text/plain": [
       "        score                                            reviews\n",
       "199995      2                                    장마라그런가!!! 달지않아요\n",
       "199996      5  다이슨 케이스 구매했어요 다이슨 슈퍼소닉 드라이기 케이스 구매했어요가격 괜찮고 배송...\n",
       "199997      5                    로드샾에서 사는것보다 세배 저렴하네요 ㅜㅜ 자주이용할께요\n",
       "199998      5                                      넘이쁘고 쎄련되보이네요~\n",
       "199999      5   아직 사용해보지도않았고 다른 제품을 써본적이없어서 잘 모르겠지만 ㅎㅎ 배송은 빨랐습니다"
      ]
     },
     "execution_count": 7,
     "metadata": {},
     "output_type": "execute_result"
    }
   ],
   "source": [
    "data.tail()"
   ]
  },
  {
   "cell_type": "code",
   "execution_count": 8,
   "metadata": {
    "ExecuteTime": {
     "end_time": "2022-07-22T07:47:33.627442Z",
     "start_time": "2022-07-22T07:47:33.609444Z"
    },
    "colab": {
     "base_uri": "https://localhost:8080/"
    },
    "executionInfo": {
     "elapsed": 6,
     "status": "ok",
     "timestamp": 1658472579727,
     "user": {
      "displayName": "황한재",
      "userId": "14227530291133837934"
     },
     "user_tz": -540
    },
    "id": "rErWA2R8ziLx",
    "outputId": "d53c64dc-0470-4fec-89f1-8ce49421e774"
   },
   "outputs": [
    {
     "data": {
      "text/plain": [
       "(200000, 2)"
      ]
     },
     "execution_count": 8,
     "metadata": {},
     "output_type": "execute_result"
    }
   ],
   "source": [
    "data.shape"
   ]
  },
  {
   "cell_type": "markdown",
   "metadata": {
    "id": "0jSAa7LXzoMG"
   },
   "source": [
    "총 20만개의 데이터로 구성되어있는 것을 확인할 수 있습니다."
   ]
  },
  {
   "cell_type": "markdown",
   "metadata": {
    "id": "xjJfZ7Jwzvmy"
   },
   "source": [
    "# 데이터 전처리"
   ]
  },
  {
   "cell_type": "markdown",
   "metadata": {
    "id": "4RFb03Edzyfy"
   },
   "source": [
    "## 중복 데이터 확인"
   ]
  },
  {
   "cell_type": "code",
   "execution_count": 9,
   "metadata": {
    "ExecuteTime": {
     "end_time": "2022-07-22T07:47:38.581537Z",
     "start_time": "2022-07-22T07:47:38.425540Z"
    },
    "colab": {
     "base_uri": "https://localhost:8080/",
     "height": 424
    },
    "executionInfo": {
     "elapsed": 399,
     "status": "ok",
     "timestamp": 1658472580497,
     "user": {
      "displayName": "황한재",
      "userId": "14227530291133837934"
     },
     "user_tz": -540
    },
    "id": "LYE4eUajzkyI",
    "outputId": "e013ffd6-0aad-4457-f6aa-4d94f63a4a79"
   },
   "outputs": [
    {
     "data": {
      "text/html": [
       "<div>\n",
       "<style scoped>\n",
       "    .dataframe tbody tr th:only-of-type {\n",
       "        vertical-align: middle;\n",
       "    }\n",
       "\n",
       "    .dataframe tbody tr th {\n",
       "        vertical-align: top;\n",
       "    }\n",
       "\n",
       "    .dataframe thead th {\n",
       "        text-align: right;\n",
       "    }\n",
       "</style>\n",
       "<table border=\"1\" class=\"dataframe\">\n",
       "  <thead>\n",
       "    <tr style=\"text-align: right;\">\n",
       "      <th></th>\n",
       "      <th>score</th>\n",
       "      <th>reviews</th>\n",
       "    </tr>\n",
       "  </thead>\n",
       "  <tbody>\n",
       "    <tr>\n",
       "      <th>10958</th>\n",
       "      <td>5</td>\n",
       "      <td>2022년까지 넉넉함</td>\n",
       "    </tr>\n",
       "    <tr>\n",
       "      <th>20907</th>\n",
       "      <td>1</td>\n",
       "      <td>배송이느려 페인트칠 다하고 왔네요</td>\n",
       "    </tr>\n",
       "    <tr>\n",
       "      <th>49674</th>\n",
       "      <td>1</td>\n",
       "      <td>배송이 너무 늦어요</td>\n",
       "    </tr>\n",
       "    <tr>\n",
       "      <th>52247</th>\n",
       "      <td>2</td>\n",
       "      <td>생각보다 별로네요~</td>\n",
       "    </tr>\n",
       "    <tr>\n",
       "      <th>63566</th>\n",
       "      <td>2</td>\n",
       "      <td>아직 잘 모르겠어요...</td>\n",
       "    </tr>\n",
       "    <tr>\n",
       "      <th>...</th>\n",
       "      <td>...</td>\n",
       "      <td>...</td>\n",
       "    </tr>\n",
       "    <tr>\n",
       "      <th>195857</th>\n",
       "      <td>2</td>\n",
       "      <td>딱 돈만큼 하는 제품</td>\n",
       "    </tr>\n",
       "    <tr>\n",
       "      <th>196291</th>\n",
       "      <td>2</td>\n",
       "      <td>배송이 느려요</td>\n",
       "    </tr>\n",
       "    <tr>\n",
       "      <th>197220</th>\n",
       "      <td>1</td>\n",
       "      <td>정사이즈보다 조금더 크게시켜야할듯</td>\n",
       "    </tr>\n",
       "    <tr>\n",
       "      <th>198330</th>\n",
       "      <td>2</td>\n",
       "      <td>배송도 빠르고 좋습니다</td>\n",
       "    </tr>\n",
       "    <tr>\n",
       "      <th>198631</th>\n",
       "      <td>2</td>\n",
       "      <td>너무 얇아요 힘이 없어서 흐물거려요</td>\n",
       "    </tr>\n",
       "  </tbody>\n",
       "</table>\n",
       "<p>92 rows × 2 columns</p>\n",
       "</div>"
      ],
      "text/plain": [
       "        score              reviews\n",
       "10958       5          2022년까지 넉넉함\n",
       "20907       1   배송이느려 페인트칠 다하고 왔네요\n",
       "49674       1           배송이 너무 늦어요\n",
       "52247       2           생각보다 별로네요~\n",
       "63566       2        아직 잘 모르겠어요...\n",
       "...       ...                  ...\n",
       "195857      2          딱 돈만큼 하는 제품\n",
       "196291      2              배송이 느려요\n",
       "197220      1   정사이즈보다 조금더 크게시켜야할듯\n",
       "198330      2         배송도 빠르고 좋습니다\n",
       "198631      2  너무 얇아요 힘이 없어서 흐물거려요\n",
       "\n",
       "[92 rows x 2 columns]"
      ]
     },
     "execution_count": 9,
     "metadata": {},
     "output_type": "execute_result"
    }
   ],
   "source": [
    "data[data.duplicated(['reviews'])]"
   ]
  },
  {
   "cell_type": "markdown",
   "metadata": {
    "id": "F9YCk-7l0cLM"
   },
   "source": [
    "92개의 데이터가 중복되어 있는 것을 확인할 수 있습니다."
   ]
  },
  {
   "cell_type": "markdown",
   "metadata": {
    "id": "-7wN6kK40gnp"
   },
   "source": [
    "## 중복데이터 제거"
   ]
  },
  {
   "cell_type": "code",
   "execution_count": 10,
   "metadata": {
    "ExecuteTime": {
     "end_time": "2022-07-22T07:47:41.466520Z",
     "start_time": "2022-07-22T07:47:41.364524Z"
    },
    "colab": {
     "base_uri": "https://localhost:8080/"
    },
    "executionInfo": {
     "elapsed": 260,
     "status": "ok",
     "timestamp": 1658472582371,
     "user": {
      "displayName": "황한재",
      "userId": "14227530291133837934"
     },
     "user_tz": -540
    },
    "id": "X1nUE3Fd0WqR",
    "outputId": "9fcc7d1f-5b8f-44d6-d7e6-1490a0a36520"
   },
   "outputs": [
    {
     "data": {
      "text/plain": [
       "(199908, 2)"
      ]
     },
     "execution_count": 10,
     "metadata": {},
     "output_type": "execute_result"
    }
   ],
   "source": [
    "data = data.drop_duplicates(['reviews'])\n",
    "data.shape"
   ]
  },
  {
   "cell_type": "markdown",
   "metadata": {
    "id": "jBqdcosX0veG"
   },
   "source": [
    "## 결측치 확인"
   ]
  },
  {
   "cell_type": "code",
   "execution_count": 11,
   "metadata": {
    "ExecuteTime": {
     "end_time": "2022-07-22T07:47:41.992522Z",
     "start_time": "2022-07-22T07:47:41.970526Z"
    },
    "colab": {
     "base_uri": "https://localhost:8080/"
    },
    "executionInfo": {
     "elapsed": 3,
     "status": "ok",
     "timestamp": 1658472583460,
     "user": {
      "displayName": "황한재",
      "userId": "14227530291133837934"
     },
     "user_tz": -540
    },
    "id": "8Ju4_CC9z0iK",
    "outputId": "c008fca0-2ce5-4acc-9341-27aab1fa6e23"
   },
   "outputs": [
    {
     "data": {
      "text/plain": [
       "score      0\n",
       "reviews    0\n",
       "dtype: int64"
      ]
     },
     "execution_count": 11,
     "metadata": {},
     "output_type": "execute_result"
    }
   ],
   "source": [
    "data.isnull().sum()"
   ]
  },
  {
   "cell_type": "markdown",
   "metadata": {
    "id": "n1frCLSS0zMH"
   },
   "source": [
    "결측치는 없는것으로 확인할 수 있습니다."
   ]
  },
  {
   "cell_type": "markdown",
   "metadata": {
    "id": "fvud9TfHd-h8"
   },
   "source": [
    "# 학습/테스트 데이터 분리"
   ]
  },
  {
   "cell_type": "markdown",
   "metadata": {
    "id": "74r5bOKxeAsU"
   },
   "source": [
    "텍스트 전처리하기 이전에 학습/테스트 데이터를 분리하겠습니다."
   ]
  },
  {
   "cell_type": "code",
   "execution_count": 12,
   "metadata": {
    "ExecuteTime": {
     "end_time": "2022-07-22T07:48:32.325055Z",
     "start_time": "2022-07-22T07:48:31.400058Z"
    },
    "colab": {
     "base_uri": "https://localhost:8080/"
    },
    "executionInfo": {
     "elapsed": 2,
     "status": "ok",
     "timestamp": 1658472584487,
     "user": {
      "displayName": "황한재",
      "userId": "14227530291133837934"
     },
     "user_tz": -540
    },
    "id": "xvBsbxwoeF1k",
    "outputId": "47e3f0d9-58df-4772-e583-3f9f2c4f4411"
   },
   "outputs": [
    {
     "data": {
      "text/plain": [
       "((149931, 2), (49977, 2))"
      ]
     },
     "execution_count": 12,
     "metadata": {},
     "output_type": "execute_result"
    }
   ],
   "source": [
    "from sklearn.model_selection import train_test_split\n",
    "\n",
    "train, test = train_test_split(data, test_size=0.25, random_state=42)\n",
    "train.shape, test.shape"
   ]
  },
  {
   "cell_type": "code",
   "execution_count": 13,
   "metadata": {
    "ExecuteTime": {
     "end_time": "2022-07-22T07:48:32.897709Z",
     "start_time": "2022-07-22T07:48:32.883711Z"
    },
    "executionInfo": {
     "elapsed": 2,
     "status": "ok",
     "timestamp": 1658472584847,
     "user": {
      "displayName": "황한재",
      "userId": "14227530291133837934"
     },
     "user_tz": -540
    },
    "id": "Ibac4MhWqnK-"
   },
   "outputs": [],
   "source": [
    "train = train.reset_index(drop=True)\n",
    "test = test.reset_index(drop=True)"
   ]
  },
  {
   "cell_type": "markdown",
   "metadata": {
    "id": "glmVHAbhW0md"
   },
   "source": [
    "# 텍스트 전처리"
   ]
  },
  {
   "cell_type": "markdown",
   "metadata": {},
   "source": [
    "텍스트의 띄어쓰기와 맞춤법을 보정하기 위하여 py-hanspell,pykospacing 라이브러리를 설치 후에 사용하겠습니다."
   ]
  },
  {
   "cell_type": "markdown",
   "metadata": {
    "id": "igO97HHact_a"
   },
   "source": [
    "## py-hanspell 간단한 예시 사용"
   ]
  },
  {
   "cell_type": "code",
   "execution_count": 18,
   "metadata": {
    "ExecuteTime": {
     "end_time": "2022-07-22T07:56:38.947020Z",
     "start_time": "2022-07-22T07:56:38.873010Z"
    },
    "colab": {
     "base_uri": "https://localhost:8080/"
    },
    "executionInfo": {
     "elapsed": 245,
     "status": "ok",
     "timestamp": 1658472591407,
     "user": {
      "displayName": "황한재",
      "userId": "14227530291133837934"
     },
     "user_tz": -540
    },
    "id": "wJRdvptEcP6q",
    "outputId": "d199cbbf-8095-46e0-f5d8-c5887062959e"
   },
   "outputs": [
    {
     "name": "stdout",
     "output_type": "stream",
     "text": [
      "변경 전 :  안녕하세요.저는한국인입니다.이문장은한글로작성됬습니다.\n",
      "변경 후 :  안녕하세요. 저는 한국인입니다. 이 문장은 한글로 작성됐습니다.\n"
     ]
    }
   ],
   "source": [
    "from hanspell import spell_checker\n",
    "original_text = '안녕하세요.저는한국인입니다.이문장은한글로작성됬습니다.'\n",
    "result = spell_checker.check(original_text)\n",
    "print(\"변경 전 : \", original_text)\n",
    "print(\"변경 후 : \",result.checked)"
   ]
  },
  {
   "cell_type": "markdown",
   "metadata": {
    "id": "jncqR4c_n_Ya"
   },
   "source": [
    "## pykospacing 간단한 예시 사용\n"
   ]
  },
  {
   "cell_type": "code",
   "execution_count": 19,
   "metadata": {
    "ExecuteTime": {
     "end_time": "2022-07-22T07:56:39.428932Z",
     "start_time": "2022-07-22T07:56:39.369578Z"
    },
    "colab": {
     "base_uri": "https://localhost:8080/"
    },
    "executionInfo": {
     "elapsed": 8,
     "status": "ok",
     "timestamp": 1658472591806,
     "user": {
      "displayName": "황한재",
      "userId": "14227530291133837934"
     },
     "user_tz": -540
    },
    "id": "ui5Ht9m3oE9S",
    "outputId": "9e4676ec-0ebb-4898-a06e-0c4a1b500513"
   },
   "outputs": [
    {
     "name": "stdout",
     "output_type": "stream",
     "text": [
      "변경 전 :  안녕하세요.저는한국인입니다.이문장은한글로작성됬습니다.\n",
      "변경 후 :  안녕하세요. 저는 한국인입니다.이 문장은 한글로 작성 됬습니다.\n"
     ]
    }
   ],
   "source": [
    "from pykospacing import Spacing\n",
    "spacing = Spacing()\n",
    "original_text = '안녕하세요.저는한국인입니다.이문장은한글로작성됬습니다.'\n",
    "result = spacing(original_text)\n",
    "print(\"변경 전 : \", original_text)\n",
    "print(\"변경 후 : \",result)"
   ]
  },
  {
   "cell_type": "markdown",
   "metadata": {
    "id": "D8UozI2idO7D"
   },
   "source": [
    "## 띄어쓰기 및 맞춤법 보정"
   ]
  },
  {
   "cell_type": "markdown",
   "metadata": {
    "id": "mt-i1fSWdRNm"
   },
   "source": [
    "py-hanspell 라이브러리에서 띄어쓰기과 맞춤법을 보정해주기 때문에  \n",
    "원본 reviews의 띄어쓰기를 모두 제거해주겠습니다.\n",
    "\n",
    "또한 pykosapcing 라이브러리를 사용하여 py-hanspell 사용시 에러가 나는 텍스트에 대하여는 띄어쓰기만 진행해주겠습니다."
   ]
  },
  {
   "cell_type": "code",
   "execution_count": 20,
   "metadata": {
    "ExecuteTime": {
     "end_time": "2022-07-22T07:56:43.632871Z",
     "start_time": "2022-07-22T07:56:43.499872Z"
    },
    "colab": {
     "base_uri": "https://localhost:8080/"
    },
    "executionInfo": {
     "elapsed": 254,
     "status": "ok",
     "timestamp": 1658472595389,
     "user": {
      "displayName": "황한재",
      "userId": "14227530291133837934"
     },
     "user_tz": -540
    },
    "id": "yed9TskLcP2e",
    "outputId": "a2871f62-2688-41d4-9dc6-a6acfba31920"
   },
   "outputs": [
    {
     "data": {
      "text/plain": [
       "0         사이즈를3센치씩늘린건데도작아요그리고색상은완전달라요칙칙한핑크네요ㅠㅠ많이아쉽지만암막효과...\n",
       "1                                 ㅂ불만족..빗이아픔..멍이피부에빗질못해주겟네요\n",
       "2         이제품쓰고삼일만에변기물이잘안내려갔어요.혹시나해서다시빼보니물이다시잘내려가네요..,이많...\n",
       "3                                                 적당하고만족합니다\n",
       "4                                  편하자고이용하는밀키튼데손은근많이가서저는패쓰요\n",
       "                                ...                        \n",
       "149926    그냥그래요ㄷㄷㄷㄷㅂㅂㅂㅂ그냥그래요ㄷㄷㄷㄷㅂㅂㅂㅂㅁㅁㅁㅁㅋㅋㅋㅋㅌㅌㅌㅌㅍㅍㅍㅍㄹㄹㄹㄹ...\n",
       "149927       비싸요진짜별거아니게허접하게생겼는데이게이만원이라니진짜가방구겨지는것만아니면구매안했음!!\n",
       "149928                                   100장주문안됩니다500장가능해요\n",
       "149929            .하림치킨여기서구입하니엄청저렴하네요배송도쾅꽝얼어서도착하고아주만족합니다!ㅋㅋ\n",
       "149930                                     조금약해보이는데저렴하게잘삿어요\n",
       "Name: reviews, Length: 149931, dtype: object"
      ]
     },
     "execution_count": 20,
     "metadata": {},
     "output_type": "execute_result"
    }
   ],
   "source": [
    "def remove_spaces(x):\n",
    "  x = x.replace(\" \",\"\")\n",
    "  return x\n",
    "\n",
    "train['reviews'] = train['reviews'].apply(remove_spaces)\n",
    "train['reviews']"
   ]
  },
  {
   "cell_type": "markdown",
   "metadata": {
    "id": "l4qdzgaPeun3"
   },
   "source": [
    "훈련 데이터가 모두 띄어쓰기가 제거되어있는것을 확인할 수 있습니다.  \n",
    "또한 테스트 데이터 또한 모두 제거해주겠습니다."
   ]
  },
  {
   "cell_type": "code",
   "execution_count": 21,
   "metadata": {
    "ExecuteTime": {
     "end_time": "2022-07-22T07:56:47.131303Z",
     "start_time": "2022-07-22T07:56:47.077300Z"
    },
    "colab": {
     "base_uri": "https://localhost:8080/"
    },
    "executionInfo": {
     "elapsed": 2,
     "status": "ok",
     "timestamp": 1658472596361,
     "user": {
      "displayName": "황한재",
      "userId": "14227530291133837934"
     },
     "user_tz": -540
    },
    "id": "g8RxRx0WdvNV",
    "outputId": "ea33bdcf-a58c-40f1-e29b-5779b7607029"
   },
   "outputs": [
    {
     "data": {
      "text/plain": [
       "0                                          너무낮고솜도적고실망스럽습니다\n",
       "1                                            피부에뾰루지가많이올라와요\n",
       "2                    배송도빠르네요가격대비좋은것같아요~~~첨에는힘들어하나조금지나니잘하네요\n",
       "3                                     재구매입니다.핏도좋고착용감도좋습니다.\n",
       "4                      파손제품온거출장같다오늘받았는데현재상황장난하시는지택배회사항의하세요\n",
       "                               ...                        \n",
       "49972    연결해서쓰려고3단으로2개주문했는데..연결부위맞추기가넘힘드네여거기다세로조립품은연결하는...\n",
       "49973            허리는너무크고종아리는꽉끼어서약간불편해하네요아들이그래도따뜻하다며잘입고다닙니다\n",
       "49974       샵에가서받았었는데이거구매하고집에서셀프로하는데넘나좋으네요^^*세트로사길잘한것같아요ㅎㅎ\n",
       "49975          가격도착하고다좋은데조금얇은감이있네요넓이도조금커서살짝헐렁거리지만그래도만족합니다~\n",
       "49976                                           아~정말이건아닌듯ㅎ\n",
       "Name: reviews, Length: 49977, dtype: object"
      ]
     },
     "execution_count": 21,
     "metadata": {},
     "output_type": "execute_result"
    }
   ],
   "source": [
    "test['reviews'] = test['reviews'].apply(remove_spaces)\n",
    "test['reviews']"
   ]
  },
  {
   "cell_type": "markdown",
   "metadata": {
    "id": "z6_aIb4AfKwb"
   },
   "source": [
    "py-hanspell과 pykospacing을 사용하여 reviews를 보정해주겠습니다.  \n",
    "먼저 py-hanspell 라이브러리를 사용하여 맞춤범 및 띄어쓰기 보정을 진행하고  \n",
    "에러가 나는 부분은 pykospacing 사용하여 띄어쓰기만 진행하겠습니다.  \n",
    "하지만 그럼에도 또 에러가 나오면 None 값을 반환하겠습니다.  "
   ]
  },
  {
   "cell_type": "code",
   "execution_count": 22,
   "metadata": {
    "ExecuteTime": {
     "end_time": "2022-07-22T12:15:01.024748Z",
     "start_time": "2022-07-22T07:57:08.786181Z"
    },
    "colab": {
     "base_uri": "https://localhost:8080/"
    },
    "id": "1fsVD29ApzNt",
    "outputId": "a547cca0-45ea-44f0-81ca-a84bc3e3a45b"
   },
   "outputs": [
    {
     "name": "stderr",
     "output_type": "stream",
     "text": [
      "  0%|          | 0/149931 [00:00<?, ?it/s]C:\\Users\\User\\anaconda3\\envs\\project4\\lib\\site-packages\\ipykernel_launcher.py:21: SettingWithCopyWarning: \n",
      "A value is trying to be set on a copy of a slice from a DataFrame\n",
      "\n",
      "See the caveats in the documentation: https://pandas.pydata.org/pandas-docs/stable/user_guide/indexing.html#returning-a-view-versus-a-copy\n",
      "100%|██████████| 149931/149931 [4:17:52<00:00,  9.69it/s]  \n"
     ]
    }
   ],
   "source": [
    "from hanspell import spell_checker\n",
    "from pykospacing import Spacing\n",
    "import datetime\n",
    "import time\n",
    "start_time = time.time()\n",
    "err_cnt = 0\n",
    "err_text = []\n",
    "for i in tqdm(range(len(train))):\n",
    "  result = None\n",
    "  try:\n",
    "    train_result = spell_checker.check(train['reviews'][i])\n",
    "    result = train_result.checked\n",
    "  except:\n",
    "    try:\n",
    "      spacing = Spacing()\n",
    "      result = spacing(train['reviews'][i])\n",
    "    except:\n",
    "      err_cnt += 1\n",
    "      err_text.append(train['reviews'][i])\n",
    "      result = None\n",
    "  train['reviews'][i] = result\n",
    "end_time = time.time()\n",
    "sec = (end_time-start_time)\n",
    "result_time = datetime.timedelta(seconds=sec)"
   ]
  },
  {
   "cell_type": "code",
   "execution_count": 29,
   "metadata": {
    "ExecuteTime": {
     "end_time": "2022-07-22T12:19:27.473520Z",
     "start_time": "2022-07-22T12:19:27.456526Z"
    },
    "colab": {
     "base_uri": "https://localhost:8080/"
    },
    "id": "nv4-QGccfEAP",
    "outputId": "1405d00b-ab76-4778-eea2-10d7f0b89fb9"
   },
   "outputs": [
    {
     "name": "stdout",
     "output_type": "stream",
     "text": [
      "4:17:52.219570\n",
      "0\n",
      "0\n"
     ]
    }
   ],
   "source": [
    "#시간 확인 및 에러 확인\n",
    "print(result_time)\n",
    "print(err_cnt)\n",
    "for i in range(len(err_text)):\n",
    "  print(err_text[i])"
   ]
  },
  {
   "cell_type": "markdown",
   "metadata": {},
   "source": [
    "훈련데이터 확인 및 저장"
   ]
  },
  {
   "cell_type": "code",
   "execution_count": 24,
   "metadata": {
    "ExecuteTime": {
     "end_time": "2022-07-22T12:16:01.309530Z",
     "start_time": "2022-07-22T12:16:01.289531Z"
    },
    "id": "CLvlP-VIkOFB"
   },
   "outputs": [
    {
     "data": {
      "text/plain": [
       "0         사이즈를 3센티씩 늘린 건데도 작아요 그리고 색상은 정말 달라요 칙칙한 핑크네요ᅲᅲ...\n",
       "1                          ᄇ 불만족.. 빗이 아픔.. 멍이 피부에 빗질 못해주겠네요\n",
       "2         이 제품 쓰고 삼 일 만에 변기 물이 잘 안 내려갔어요. 혹시나 해서 다시 빼보니 ...\n",
       "3                                                적당하고 만족합니다\n",
       "4                         편하자고 이용하는 밀키 튼데 손은 근 많이 가서 저는 패스요\n",
       "                                ...                        \n",
       "149926    그냥그래요ㄷㄷㄷㄷㅂㅂㅂㅂ그냥그래요ㄷㄷㄷㄷㅂㅂㅂㅂㅁㅁㅁㅁㅋㅋㅋㅋㅌㅌㅌㅌㅍㅍㅍㅍㄹㄹㄹㄹ...\n",
       "149927    비싸요 진짜 별거 아니게 허접하게 생겼는데 이게 이만 원이라니 진짜가 방 구겨지는 ...\n",
       "149928                               100장 주문 안됩니다 500장 가능해요\n",
       "149929            .하림치킨여기서구입하니엄청저렴하네요배송도쾅꽝얼어서도착하고아주만족합니다!ㅋㅋ\n",
       "149930                                조금 약해 보이는데 저렴하게 잘 샀어요\n",
       "Name: reviews, Length: 149931, dtype: object"
      ]
     },
     "execution_count": 24,
     "metadata": {},
     "output_type": "execute_result"
    }
   ],
   "source": [
    "train['reviews']"
   ]
  },
  {
   "cell_type": "code",
   "execution_count": 31,
   "metadata": {
    "ExecuteTime": {
     "end_time": "2022-07-22T12:22:02.388759Z",
     "start_time": "2022-07-22T12:22:02.358767Z"
    }
   },
   "outputs": [
    {
     "data": {
      "text/plain": [
       "0"
      ]
     },
     "execution_count": 31,
     "metadata": {},
     "output_type": "execute_result"
    }
   ],
   "source": [
    "train['reviews'].isnull().sum()"
   ]
  },
  {
   "cell_type": "code",
   "execution_count": 26,
   "metadata": {
    "ExecuteTime": {
     "end_time": "2022-07-22T12:17:24.599530Z",
     "start_time": "2022-07-22T12:17:24.243512Z"
    }
   },
   "outputs": [],
   "source": [
    "train.to_csv(\"preprocessing_train.csv\", index=False)"
   ]
  },
  {
   "cell_type": "markdown",
   "metadata": {
    "ExecuteTime": {
     "end_time": "2022-07-22T12:17:51.053274Z",
     "start_time": "2022-07-22T12:17:51.041277Z"
    }
   },
   "source": [
    "테스트 데이터도 동일하게 수행합니다."
   ]
  },
  {
   "cell_type": "code",
   "execution_count": 32,
   "metadata": {
    "ExecuteTime": {
     "end_time": "2022-07-22T13:47:45.179789Z",
     "start_time": "2022-07-22T12:22:25.658613Z"
    }
   },
   "outputs": [
    {
     "name": "stderr",
     "output_type": "stream",
     "text": [
      "  0%|          | 0/49977 [00:00<?, ?it/s]C:\\Users\\User\\anaconda3\\envs\\project4\\lib\\site-packages\\ipykernel_launcher.py:17: SettingWithCopyWarning: \n",
      "A value is trying to be set on a copy of a slice from a DataFrame\n",
      "\n",
      "See the caveats in the documentation: https://pandas.pydata.org/pandas-docs/stable/user_guide/indexing.html#returning-a-view-versus-a-copy\n",
      "100%|██████████| 49977/49977 [1:25:19<00:00,  9.76it/s]  \n"
     ]
    }
   ],
   "source": [
    "start_time = time.time()\n",
    "err_cnt = 0\n",
    "err_text = []\n",
    "for i in tqdm(range(len(test))):\n",
    "  result = None\n",
    "  try:\n",
    "    test_result = spell_checker.check(test['reviews'][i])\n",
    "    result = test_result.checked\n",
    "  except:\n",
    "    try:\n",
    "      spacing = Spacing()\n",
    "      result = spacing(test['reviews'][i])\n",
    "    except:\n",
    "      err_cnt += 1\n",
    "      err_text.append(test['reviews'][i])\n",
    "      result = None\n",
    "  test['reviews'][i] = result\n",
    "end_time = time.time()\n",
    "sec = (end_time-start_time)\n",
    "result_time = datetime.timedelta(seconds=sec)"
   ]
  },
  {
   "cell_type": "code",
   "execution_count": 33,
   "metadata": {
    "ExecuteTime": {
     "end_time": "2022-07-22T13:50:34.763929Z",
     "start_time": "2022-07-22T13:50:34.759927Z"
    }
   },
   "outputs": [
    {
     "name": "stdout",
     "output_type": "stream",
     "text": [
      "1:25:19.509589\n",
      "0\n"
     ]
    }
   ],
   "source": [
    "#시간 확인 및 에러 확인\n",
    "print(result_time)\n",
    "print(err_cnt)\n",
    "for i in range(len(err_text)):\n",
    "  print(err_text[i])"
   ]
  },
  {
   "cell_type": "code",
   "execution_count": 34,
   "metadata": {
    "ExecuteTime": {
     "end_time": "2022-07-22T13:50:49.845092Z",
     "start_time": "2022-07-22T13:50:49.826094Z"
    }
   },
   "outputs": [
    {
     "data": {
      "text/plain": [
       "0                                      너무 낮고 솜도 적고 실망스럽습니다\n",
       "1                                         피부에 뾰루지가 많이 올라와요\n",
       "2         배송도 빠르네요 가격 대비 좋은 것 같아요~~~첨에는 힘들어 하나 조금 지나니 잘하네요\n",
       "3                                 재구매입니다. 핏도 좋고 착용감도 좋습니다.\n",
       "4          파손 제품 온 거 출장 같다 오늘 받았는데 현재 상황 장난하시는지 택배회사 항의하세요\n",
       "                               ...                        \n",
       "49972    연결해서 쓰려고 3단으로 2개 주문했는데.. 연결 부위 맞추기가 너무 힘드네요 거기...\n",
       "49973    허리는 너무 크고 종아리는 꽉 끼어서 약간 불편해하네요 아들이 그래도 따뜻하다며 잘...\n",
       "49974       샵에가서받았었는데이거구매하고집에서셀프로하는데넘나좋으네요^^*세트로사길잘한것같아요ㅎㅎ\n",
       "49975    가격 도착하고 다 좋은데 조금 얇은 감이 있네요 넓이도 조금 커서 살짝 헐렁거리지만...\n",
       "49976                                        아~정말 이건 아닌 듯ㅎ\n",
       "Name: reviews, Length: 49977, dtype: object"
      ]
     },
     "execution_count": 34,
     "metadata": {},
     "output_type": "execute_result"
    }
   ],
   "source": [
    "test['reviews']"
   ]
  },
  {
   "cell_type": "code",
   "execution_count": 35,
   "metadata": {
    "ExecuteTime": {
     "end_time": "2022-07-22T13:51:18.174714Z",
     "start_time": "2022-07-22T13:51:18.157714Z"
    }
   },
   "outputs": [
    {
     "data": {
      "text/plain": [
       "0"
      ]
     },
     "execution_count": 35,
     "metadata": {},
     "output_type": "execute_result"
    }
   ],
   "source": [
    "test['reviews'].isnull().sum()"
   ]
  },
  {
   "cell_type": "code",
   "execution_count": 36,
   "metadata": {
    "ExecuteTime": {
     "end_time": "2022-07-22T13:51:45.309654Z",
     "start_time": "2022-07-22T13:51:45.192654Z"
    }
   },
   "outputs": [],
   "source": [
    "test.to_csv('preprocessing_test.csv', index=False)"
   ]
  },
  {
   "cell_type": "code",
   "execution_count": null,
   "metadata": {},
   "outputs": [],
   "source": []
  }
 ],
 "metadata": {
  "colab": {
   "authorship_tag": "ABX9TyMPKSiHjIK7CkyvIalpg5Sx",
   "collapsed_sections": [],
   "name": "Untitled0.ipynb",
   "provenance": []
  },
  "kernelspec": {
   "display_name": "project4",
   "language": "python",
   "name": "project4"
  },
  "language_info": {
   "codemirror_mode": {
    "name": "ipython",
    "version": 3
   },
   "file_extension": ".py",
   "mimetype": "text/x-python",
   "name": "python",
   "nbconvert_exporter": "python",
   "pygments_lexer": "ipython3",
   "version": "3.7.13"
  },
  "toc": {
   "base_numbering": 1,
   "nav_menu": {},
   "number_sections": true,
   "sideBar": true,
   "skip_h1_title": false,
   "title_cell": "Table of Contents",
   "title_sidebar": "Contents",
   "toc_cell": false,
   "toc_position": {},
   "toc_section_display": true,
   "toc_window_display": true
  },
  "varInspector": {
   "cols": {
    "lenName": 16,
    "lenType": 16,
    "lenVar": 40
   },
   "kernels_config": {
    "python": {
     "delete_cmd_postfix": "",
     "delete_cmd_prefix": "del ",
     "library": "var_list.py",
     "varRefreshCmd": "print(var_dic_list())"
    },
    "r": {
     "delete_cmd_postfix": ") ",
     "delete_cmd_prefix": "rm(",
     "library": "var_list.r",
     "varRefreshCmd": "cat(var_dic_list()) "
    }
   },
   "types_to_exclude": [
    "module",
    "function",
    "builtin_function_or_method",
    "instance",
    "_Feature"
   ],
   "window_display": false
  }
 },
 "nbformat": 4,
 "nbformat_minor": 1
}
